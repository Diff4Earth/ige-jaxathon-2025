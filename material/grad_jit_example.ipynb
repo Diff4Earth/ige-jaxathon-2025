{
 "cells": [
  {
   "cell_type": "code",
   "execution_count": 1,
   "metadata": {},
   "outputs": [],
   "source": [
    "from typing import Tuple\n",
    "from time import time as tt\n",
    "import jax\n",
    "import jax.numpy as jnp"
   ]
  },
  {
   "cell_type": "markdown",
   "metadata": {},
   "source": [
    "# Vectorized function\n",
    "Here is the function that we will derivate. This is a simple inversion of a tridiagonal system (find $X \\in \\mathbb R^n$ so that $MX = F$ where $M \\in \\mathbb R^{n \\times n}$ is a tridiagonal matrix). The solver is detailed [here](https://fr.wikipedia.org/wiki/Matrice_tridiagonale). It takes the 3 diagonals of the matrix $M$ and the right hand side of the system $F$ in input and returns the solution $X$."
   ]
  },
  {
   "cell_type": "code",
   "execution_count": 2,
   "metadata": {},
   "outputs": [],
   "source": [
    "def tridiag_solve(a: jnp.ndarray, b: jnp.ndarray, c: jnp.ndarray, f: jnp.ndarray) -> jnp.ndarray:\n",
    "    def forward_scan_scal(carry: Tuple[float, float], x: jnp.ndarray) -> Tuple[Tuple[float, float], Tuple[float, float]]:\n",
    "        f_im1, q_im1 = carry\n",
    "        a, b, c, f = x\n",
    "        cff = 1./(b+a*q_im1)\n",
    "        f_i = cff*(f-a*f_im1)\n",
    "        q_i = -cff*c\n",
    "        carry = f_i, q_i\n",
    "        return carry, carry\n",
    "    init = f[0]/b[0], -c[0]/b[0]\n",
    "    xs = jnp.stack([a, b, c, f])[:, 1:].T\n",
    "    _, (f, q) = jax.lax.scan(forward_scan_scal, init, xs)\n",
    "    f = jnp.concat([jnp.array([init[0]]), f])\n",
    "    q = jnp.concat([jnp.array([init[1]]), q])\n",
    "\n",
    "    def reverse_scan_scal(carry: float, x: jnp.ndarray) -> Tuple[float, float]:\n",
    "        q_rev, f_rev = x\n",
    "        carry = f_rev + q_rev*carry\n",
    "        return carry, carry\n",
    "    init = f[-1]\n",
    "    xs = jnp.stack([q[::-1], f[::-1]])[:, 1:].T\n",
    "    _, x = jax.lax.scan(reverse_scan_scal, init, xs)\n",
    "    x = jnp.concat([jnp.array([init]), x])\n",
    "\n",
    "    return x[::-1]"
   ]
  },
  {
   "cell_type": "markdown",
   "metadata": {},
   "source": [
    "# Usage\n",
    "Simple call with random values"
   ]
  },
  {
   "cell_type": "code",
   "execution_count": 3,
   "metadata": {},
   "outputs": [
    {
     "data": {
      "text/plain": [
       "Array([ 0.03539155,  0.13971858,  0.30265936,  0.08421622, -0.24612431,\n",
       "        0.43353987,  0.19535881, -0.02925097,  0.30980924,  0.25675532],      dtype=float32)"
      ]
     },
     "execution_count": 3,
     "metadata": {},
     "output_type": "execute_result"
    }
   ],
   "source": [
    "nz = 10\n",
    "key_a, key_b, key_c, key_f = jax.random.split(jax.random.PRNGKey(0), 4)\n",
    "a = jax.random.uniform(key_a, (nz,), minval=.5, maxval=1.5)\n",
    "b = jax.random.uniform(key_b, (nz,), minval=2., maxval=3.)\n",
    "c = jax.random.uniform(key_c, (nz,), minval=.5, maxval=1.5)\n",
    "f = jax.random.uniform(key_f, (nz,))\n",
    "tridiag_solve(a, b, c, f)\n"
   ]
  },
  {
   "cell_type": "markdown",
   "metadata": {},
   "source": [
    "# Scalar function to derivate\n",
    "Using this tridiagonal inversion, we create a function $\\mathbb R^d \\rightarrow \\mathbb R$ that we will derivate after. This function builds the diagonals and the right hand side from the $d$ parameters and returns the $L^2$ norm of the solution of the tridiagonal system. We take $n=100$ for the end of the notebook."
   ]
  },
  {
   "cell_type": "code",
   "execution_count": 4,
   "metadata": {},
   "outputs": [],
   "source": [
    "nz = 100\n",
    "def scal_fun(params: jnp.ndarray) -> float:\n",
    "    n_tiles = nz//params.shape[0]+1\n",
    "    a = jnp.tile(params, n_tiles)[:nz] + .5\n",
    "    params_rolled = jnp.roll(params, shift=1)\n",
    "    b = jnp.tile(params_rolled, n_tiles)[:nz] + 2\n",
    "    params_rolled = jnp.roll(params, shift=2)\n",
    "    c = jnp.tile(params_rolled, n_tiles)[:nz] + .5\n",
    "    params_rolled = jnp.roll(params, shift=3)\n",
    "    f = jnp.tile(params_rolled, n_tiles)[:nz]\n",
    "    x = tridiag_solve(a, b, c, f)\n",
    "    return jnp.linalg.norm(x)"
   ]
  },
  {
   "cell_type": "markdown",
   "metadata": {},
   "source": [
    "# Gradient and jitification inside and outside\n",
    "Here we jitify \"inside\" and \"outside\" the gradient, and we also create a gradient without jit."
   ]
  },
  {
   "cell_type": "code",
   "execution_count": 5,
   "metadata": {},
   "outputs": [],
   "source": [
    "grad_scal_fun = jax.grad(scal_fun)\n",
    "grad_jit_scal_fun = jax.grad(jax.jit(scal_fun))\n",
    "jit_grad_scal_fun = jax.jit(jax.grad(scal_fun))"
   ]
  },
  {
   "cell_type": "markdown",
   "metadata": {},
   "source": [
    "# Consistency\n",
    "We check that these functions computes the same thing."
   ]
  },
  {
   "cell_type": "code",
   "execution_count": 13,
   "metadata": {},
   "outputs": [
    {
     "name": "stdout",
     "output_type": "stream",
     "text": [
      "grad=grad(jit) : True\n",
      "grad=jit(grad) : True\n"
     ]
    }
   ],
   "source": [
    "key = jax.random.PRNGKey(0)\n",
    "x = jax.random.uniform(key, (5, ))\n",
    "print(f'grad=grad(jit) : {jnp.all(grad_scal_fun(x) == grad_jit_scal_fun(x))}')\n",
    "print(f'grad=jit(grad) : {jnp.all(grad_scal_fun(x) == jit_grad_scal_fun(x))}')"
   ]
  },
  {
   "cell_type": "markdown",
   "metadata": {},
   "source": [
    "# Time benchmark\n",
    "Here we compare the time execution of these 3 versions of the gradient. The function `block_until_ready` is used to be sure that JAX computes the gradient (sometimes if a variable is not used later, it is note computed). We run one time every function before the time benchmark to not take into account the compilation cost. And between every function benchmark, we remove the cache to be sure that some inner compilation doesn't help the following functions to be faster."
   ]
  },
  {
   "cell_type": "code",
   "execution_count": 10,
   "metadata": {},
   "outputs": [
    {
     "name": "stdout",
     "output_type": "stream",
     "text": [
      "no jit : 0.2117520809173584s\n",
      "grad(jit) : 0.000748436450958252s\n",
      "jit(grad) : 0.00021117210388183594s\n"
     ]
    }
   ],
   "source": [
    "n_trials = 100\n",
    "n_par = 5\n",
    "\n",
    "key = jax.random.PRNGKey(0)\n",
    "all_x = jax.random.uniform(key, (n_trials+1, n_par))\n",
    "\n",
    "# no jit\n",
    "jax.clear_caches()\n",
    "jax.block_until_ready(grad_scal_fun(all_x[0, :]))\n",
    "times = 0\n",
    "for i_trial in range(n_trials):\n",
    "    t = tt()\n",
    "    jax.block_until_ready(grad_scal_fun(all_x[i_trial+1, :]))\n",
    "    times += tt()-t\n",
    "print(f'no jit : {times/n_trials}s')\n",
    "\n",
    "# grad(jit)\n",
    "jax.clear_caches()\n",
    "jax.block_until_ready(grad_jit_scal_fun(all_x[0, :]))\n",
    "times = 0\n",
    "for i_trial in range(n_trials):\n",
    "    old_key, key = jax.random.split(key, 2)\n",
    "    x = jax.random.uniform(old_key, (n_par,))\n",
    "    t = tt()\n",
    "    jax.block_until_ready(grad_jit_scal_fun(all_x[i_trial+1, :]))\n",
    "    times += tt()-t\n",
    "print(f'grad(jit) : {times/n_trials}s')\n",
    "\n",
    "# jit(grad)\n",
    "jax.clear_caches()\n",
    "jax.block_until_ready(jit_grad_scal_fun(all_x[0, :]))\n",
    "times = 0\n",
    "for i_trial in range(n_trials):\n",
    "    old_key, key = jax.random.split(key, 2)\n",
    "    x = jax.random.uniform(old_key, (n_par,))\n",
    "    t = tt()\n",
    "    jax.block_until_ready(jit_grad_scal_fun(all_x[i_trial+1, :]))\n",
    "    times += tt()-t\n",
    "print(f'jit(grad) : {times/n_trials}s')"
   ]
  },
  {
   "cell_type": "markdown",
   "metadata": {},
   "source": [
    "# Conclusion\n",
    "- almost mandatory to jit a gradient for calculation cost\n",
    "- better to jit \"outside\""
   ]
  }
 ],
 "metadata": {
  "kernelspec": {
   "display_name": ".venv",
   "language": "python",
   "name": "python3"
  },
  "language_info": {
   "codemirror_mode": {
    "name": "ipython",
    "version": 3
   },
   "file_extension": ".py",
   "mimetype": "text/x-python",
   "name": "python",
   "nbconvert_exporter": "python",
   "pygments_lexer": "ipython3",
   "version": "3.13.2"
  }
 },
 "nbformat": 4,
 "nbformat_minor": 2
}
