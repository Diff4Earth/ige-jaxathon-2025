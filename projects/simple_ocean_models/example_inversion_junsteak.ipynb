{
 "cells": [
  {
   "cell_type": "markdown",
   "metadata": {},
   "source": [
    "Example of inversion problem\n",
    "===============================\n",
    "\n",
    "This notebook provides an example on how to use a simple model (junsteak) in an inversion problem\n",
    "\n",
    "Made during the JAXathon 2025 at Insitut des Geosciences et de l'Environnement (IGE)\n",
    "The event has been organized by Julien LeSommer\n",
    "\n",
    "Notebook by the group of the project 'simple_ocean_models'.  \n",
    "By: Marta Mrozowska, Valentin Bellemin-Laponaz, Florian Le Guillou, Sammy Metref, Hugo Jacquet  \n",
    "Date: 13th of March 2025\n"
   ]
  },
  {
   "cell_type": "markdown",
   "metadata": {},
   "source": [
    "Create an environment with the needed packages from ENV_for_junsteak.txt  "
   ]
  },
  {
   "cell_type": "code",
   "execution_count": 1,
   "metadata": {},
   "outputs": [],
   "source": [
    "# basic imports\n",
    "import matplotlib.pyplot as plt\n",
    "import xarray as xr\n",
    "# Jax related\n",
    "import jax\n",
    "import jax.tree_util as jtu\n",
    "import optax\n",
    "jax.config.update(\"jax_enable_x64\", True)\n",
    "import jax.numpy as jnp\n",
    "from diffrax import Euler\n",
    "import equinox as eqx\n",
    "# my imports\n",
    "from junsteak import UNSTKmodel"
   ]
  },
  {
   "cell_type": "markdown",
   "metadata": {},
   "source": [
    "Model setup\n",
    "-----------"
   ]
  },
  {
   "cell_type": "markdown",
   "metadata": {},
   "source": [
    "Here we define the parameters of the model. The word 'parameters' is very general, what is fixed, what is forcing and what is a control parameter will be defined during the minimization process using Equinox filters."
   ]
  },
  {
   "cell_type": "code",
   "execution_count": 2,
   "metadata": {},
   "outputs": [],
   "source": [
    "# model setup\n",
    "Nl=1            # number of layers\n",
    "# initial conditions\n",
    "U0 = 0.0        # (m/s), zonal velocity\n",
    "V0 = 0.0        # (m/s), meridional velocity\n",
    "# forcing\n",
    "TAx = 0.0 # not used, idealized forcing in the model class (to be made cleaner)\n",
    "TAy = 0.02\n",
    "fc = 1e-4\n",
    "\n",
    "Ktarget     = jnp.asarray([-10.,-9.])\n",
    "Kinitial    = jnp.asarray([-9.,-8.5]) # [-9.,-8.5]\n",
    "\n",
    "# Time integration\n",
    "solver=Euler()  # solver to use\n",
    "dt=60           # time step\n",
    "t0=0            # initial time\n",
    "t1=84600        # final time\n",
    "\n",
    "# optimizer things\n",
    "AD_mode = 'F' # 'forward' 'backward\n",
    "itmax = 100\n",
    "lr = 1e-1\n",
    "opt = optax.adam(lr)\n",
    "#opt = optax.lbfgs() # not working just like this, need more investigation ..."
   ]
  },
  {
   "cell_type": "markdown",
   "metadata": {},
   "source": [
    "Starting point for a realistic forcing"
   ]
  },
  {
   "cell_type": "code",
   "execution_count": 3,
   "metadata": {},
   "outputs": [],
   "source": [
    "# adding a realistic forcing\n",
    "# file_forcing = '/home/jacqhugo/Datlas_2025/Reconstruct_inertial_current/JAXathon/croco_1h_inst_surf_2006-02-01-2006-02-28_cons_-50.0_-35.0.nc'\n",
    "# ds_f = xr.open_dataset(file_forcing)\n",
    "# dt_forcing= 3600 # s\n",
    "# time_forcing = jnp.arange(0,len(ds_f.time)*dt_forcing,dt_forcing, dtype=float)\n",
    "# ds_f['time'] = time_forcing\n",
    "# TAx = ds_f.oceTAUX.sel(time=slice(t0,t1))\n",
    "# TAy = ds_f.oceTAUY.sel(time=slice(t0,t1))\n",
    "# time_forcing = jnp.arange(t0,t1,dt_forcing)\n",
    "# TAx_t = diffrax.LinearInterpolation(time_forcing, TAx)\n",
    "# TAy_t = diffrax.LinearInterpolation(time_forcing, TAy)"
   ]
  },
  {
   "cell_type": "markdown",
   "metadata": {},
   "source": [
    "Experiment setup\n",
    "--------------------"
   ]
  },
  {
   "cell_type": "markdown",
   "metadata": {},
   "source": [
    "Making a target trajectory from 1 run of the model, using control parameters `Ktarget`"
   ]
  },
  {
   "cell_type": "code",
   "execution_count": 4,
   "metadata": {},
   "outputs": [
    {
     "name": "stdout",
     "output_type": "stream",
     "text": [
      "ForwardMode()\n"
     ]
    }
   ],
   "source": [
    "# Initialise model = class instanciation and initial state and forcing\n",
    "true_model = UNSTKmodel(U0=U0, V0=V0, Nl=1, TAx=TAx, TAy=TAy, K=Ktarget, fc=fc, solver=solver, AD_mode=AD_mode)  \n",
    "# truth\n",
    "ltime = jnp.arange(0,84600,60)\n",
    "sol = true_model(t0=t0,t1=t1,dt=dt,save_traj=ltime)\n",
    "truth = sol.ys"
   ]
  },
  {
   "cell_type": "markdown",
   "metadata": {},
   "source": [
    "Making Observations extracted from the true trajectory"
   ]
  },
  {
   "cell_type": "code",
   "execution_count": 5,
   "metadata": {},
   "outputs": [
    {
     "name": "stdout",
     "output_type": "stream",
     "text": [
      "ForwardMode()\n"
     ]
    }
   ],
   "source": [
    "# Making observations from truth\n",
    "time_obs = jnp.arange(t0,t1,60*20+600)\n",
    "sol = true_model(t0=t0,t1=t1,dt=dt,save_traj=time_obs)\n",
    "obs = sol.ys"
   ]
  },
  {
   "cell_type": "markdown",
   "metadata": {},
   "source": [
    "Computing a first guess with `Kinitial`, after having setup a new model.  \n",
    "This new model will be the one that we will work on in the following.  \n",
    "This new model has the same forcing as the target model"
   ]
  },
  {
   "cell_type": "code",
   "execution_count": 6,
   "metadata": {},
   "outputs": [
    {
     "name": "stdout",
     "output_type": "stream",
     "text": [
      "ForwardMode()\n"
     ]
    }
   ],
   "source": [
    "# New model to use in minimisation\n",
    "#K=jnp.asarray([-9.,-8.5]) # [-10,-9] # here we need 1) a jax array 2) that consist of floats\n",
    "mymodel = UNSTKmodel(U0=U0, V0=V0, Nl=1, TAx=TAx, TAy=TAy, K=Kinitial, fc=fc, solver=solver, AD_mode=AD_mode)  \n",
    "first_guess = mymodel(t0=t0,t1=t1,dt=dt,save_traj=ltime).ys"
   ]
  },
  {
   "cell_type": "markdown",
   "metadata": {},
   "source": [
    "Minimisation process\n",
    "--------------------"
   ]
  },
  {
   "cell_type": "markdown",
   "metadata": {},
   "source": [
    "Filtering to define what is static and what is dynamic"
   ]
  },
  {
   "cell_type": "code",
   "execution_count": 7,
   "metadata": {},
   "outputs": [],
   "source": [
    "# filter model attribute\n",
    "# this is where the magic happens:\n",
    "#   we filter the class attributes that we dont want to be differentiated\n",
    "#   (by default all non array/float are filtered out)\n",
    "filter_spec = jtu.tree_map(lambda arr: False, mymodel) # keep nothing\n",
    "filter_spec = eqx.tree_at( lambda tree: tree.K, filter_spec, replace=True) # keep only K"
   ]
  },
  {
   "cell_type": "markdown",
   "metadata": {},
   "source": [
    "Defining the loss function, this is model specific\n",
    "\n",
    "Note: the call of the function should be the same for any physical model"
   ]
  },
  {
   "cell_type": "code",
   "execution_count": 8,
   "metadata": {},
   "outputs": [],
   "source": [
    "def loss_fn(sol,obs): # <- this is problem specific, but also model specific\n",
    "    return jnp.mean( (sol[0]-obs[0])**2 + (sol[1]-obs[1])**2 )"
   ]
  },
  {
   "cell_type": "markdown",
   "metadata": {},
   "source": [
    "Minimizer build parts\n",
    "\n",
    "Note: This could be wrapped into a myminimizer function ..."
   ]
  },
  {
   "cell_type": "code",
   "execution_count": 9,
   "metadata": {},
   "outputs": [],
   "source": [
    "# this should be general enough to not need any modification in another model\n",
    "def loss_grad( dynamic_model, static_model, tobs, t0, t1, dt, obs):\n",
    "    mymodel = eqx.combine(dynamic_model, static_model)\n",
    "    sol = mymodel(t0, t1, dt, save_traj=tobs).ys\n",
    "    return loss_fn(sol,obs)\n",
    "\n",
    "def loss_for_jacfwd(sol,obs):\n",
    "    y = loss_fn(sol,obs)\n",
    "    return y, y # <- trick to have a similar behavior than value_and_grad (but here returns grad, value)\n",
    "\n",
    "def loss_jacfwd( dynamic_model, static_model, tobs, t0, t1, dt, obs):\n",
    "    mymodel = eqx.combine(dynamic_model, static_model)\n",
    "    sol = mymodel(t0, t1, dt, save_traj=tobs).ys\n",
    "    return loss_for_jacfwd(sol,obs)\n",
    "\n",
    "\n",
    "if AD_mode=='F':\n",
    "    dloss_fn = eqx.filter_jacfwd(loss_jacfwd, has_aux=True)\n",
    "elif AD_mode=='B':\n",
    "    dloss_fn = eqx.filter_value_and_grad(loss_grad)\n",
    "\n",
    "# this function is common to all model, nothing is specific to the model    \n",
    "# |\n",
    "# v\n",
    "# one step of the minimizer\n",
    "@eqx.filter_jit\n",
    "def step_minimize( model, opt_state, filter_spec, t0, t1, dt, tobs, obs):\n",
    "    dynamic_model, static_model = eqx.partition(model, filter_spec)\n",
    "    #value, grad = loss_grad(dynamic_model, static_model, tobs, t0, t1, dt, obs)\n",
    "    grad, value  = dloss_fn(dynamic_model, static_model, tobs, t0, t1, dt, obs)\n",
    "    updates, opt_state = opt.update(grad, opt_state)\n",
    "    model = eqx.apply_updates(model, updates)\n",
    "    return value, model, opt_state"
   ]
  },
  {
   "cell_type": "markdown",
   "metadata": {},
   "source": [
    "Minimization process, starting from `Kinitial`"
   ]
  },
  {
   "cell_type": "code",
   "execution_count": 10,
   "metadata": {},
   "outputs": [
    {
     "name": "stdout",
     "output_type": "stream",
     "text": [
      "ForwardMode()\n",
      "it, J, K : 0 0.008494855015484618 [-9.09999996 -8.4000003 ]\n",
      "ForwardMode()\n",
      "it, J, K : 1 0.005846709252166879 [-9.19804548 -8.30192639]\n",
      "it, J, K : 2 0.00395917931154199 [-9.29285336 -8.20767333]\n",
      "it, J, K : 3 0.0026628719924078 [-9.3833209 -8.1196266]\n",
      "it, J, K : 4 0.0018096952601524474 [-9.46861556 -8.04049073]\n",
      "it, J, K : 5 0.0012750777938606071 [-9.54820605 -7.97288902]\n",
      "it, J, K : 6 0.00095841271069781 [-9.62184058 -7.91884558]\n",
      "it, J, K : 7 0.0007822891024230817 [-9.68949228 -7.87940557]\n",
      "it, J, K : 8 0.0006905878293215271 [-9.75129428 -7.85458106]\n",
      "it, J, K : 9 0.0006452909588300193 [-9.80748062 -7.84357923]\n",
      "it, J, K : 10 0.0006223865673759571 [-9.8583404  -7.84512979]\n",
      "it, J, K : 11 0.0006077467638814281 [-9.90418603 -7.85776441]\n",
      "it, J, K : 12 0.0005937071274001053 [-9.94533318 -7.87999794]\n",
      "it, J, K : 13 0.0005765935550988788 [-9.98208901 -7.9104233 ]\n",
      "it, J, K : 14 0.0005550871935846521 [-10.01474615  -7.9477498 ]\n",
      "it, J, K : 15 0.0005291973633829201 [-10.04358009  -7.99081048]\n",
      "it, J, K : 16 0.0004996306909386258 [-10.06884879  -8.03855501]\n",
      "it, J, K : 17 0.00046740502568726406 [-10.09079338  -8.09003786]\n",
      "it, J, K : 18 0.0004336128470053598 [-10.10963951  -8.14440639]\n",
      "it, J, K : 19 0.0003992783856602916 [-10.12559895  -8.20089082]\n",
      "it, J, K : 20 0.0003652767422552701 [-10.13887117  -8.25879676]\n",
      "it, J, K : 21 0.0003322963307184425 [-10.14964487  -8.31749987]\n",
      "it, J, K : 22 0.0003008322623998281 [-10.15809932  -8.37644212]\n",
      "it, J, K : 23 0.00027120104856236235 [-10.1644055   -8.43512887]\n",
      "it, J, K : 24 0.00024356838701605906 [-10.16872714  -8.49312613]\n",
      "it, J, K : 25 0.00021798300468607828 [-10.17122155  -8.55005764]\n",
      "it, J, K : 26 0.00019441099395244214 [-10.1720403   -8.60560147]\n",
      "it, J, K : 27 0.0001727667690326031 [-10.17132981  -8.65948616]\n",
      "it, J, K : 28 0.000152938436575731 [-10.16923189  -8.7114863 ]\n",
      "it, J, K : 29 0.0001348067809714477 [-10.1658841   -8.76141802]\n",
      "it, J, K : 30 0.000118258075251081 [-10.16142014  -8.80913427]\n",
      "it, J, K : 31 0.00010319152936777738 [-10.15597008  -8.85452024]\n",
      "it, J, K : 32 8.952244937802829e-05 [-10.14966058  -8.897489  ]\n",
      "it, J, K : 33 7.718220836505974e-05 [-10.14261501  -8.93797756]\n",
      "it, J, K : 34 6.611602399984604e-05 [-10.13495354  -8.97594324]\n",
      "it, J, K : 35 5.627937619196313e-05 [-10.12679306  -9.0113606 ]\n",
      "it, J, K : 36 4.763373100254243e-05 [-10.1182471   -9.04421878]\n",
      "it, J, K : 37 4.014208938566463e-05 [-10.10942564  -9.07451933]\n",
      "it, J, K : 38 3.3764759811664125e-05 [-10.10043478  -9.10227444]\n",
      "it, J, K : 39 2.845566058552716e-05 [-10.09137639  -9.12750562]\n",
      "it, J, K : 40 2.4159383933552956e-05 [-10.08234768  -9.15024267]\n",
      "it, J, K : 41 2.0809191529782692e-05 [-10.07344059  -9.17052299]\n",
      "it, J, K : 42 1.8326052708240645e-05 [-10.06474127  -9.18839116]\n",
      "it, J, K : 43 1.6618776845829234e-05 [-10.05632944  -9.20389865]\n",
      "it, J, K : 44 1.5585227683762236e-05 [-10.0482777   -9.21710372]\n",
      "it, J, K : 45 1.5114539965723418e-05 [-10.04065094  -9.22807145]\n",
      "it, J, K : 46 1.5090190735531749e-05 [-10.03350575  -9.2368737 ]\n",
      "it, J, K : 47 1.5393714202880935e-05 [-10.02688982  -9.24358917]\n",
      "it, J, K : 48 1.5908796841155428e-05 [-10.02084162  -9.24830336]\n",
      "it, J, K : 49 1.652545509204121e-05 [-10.01538998  -9.25110848]\n",
      "it, J, K : 50 1.7143987357687494e-05 [-10.01055404  -9.2521032 ]\n",
      "it, J, K : 51 1.767840815402419e-05 [-10.00634318  -9.25139235]\n",
      "it, J, K : 52 1.8059115426275635e-05 [-10.00275729  -9.24908642]\n",
      "it, J, K : 53 1.82346085410736e-05 [-9.99978705 -9.24530101]\n",
      "it, J, K : 54 1.8172157530172112e-05 [-9.99741457 -9.24015605]\n",
      "it, J, K : 55 1.785741457919877e-05 [-9.99561404 -9.23377498]\n",
      "it, J, K : 56 1.7293046388871445e-05 [-9.99435258 -9.22628386]\n",
      "it, J, K : 57 1.6496541361964577e-05 [-9.99359122 -9.21781032]\n",
      "it, J, K : 58 1.5497401103576508e-05 [-9.99328597 -9.2084826 ]\n",
      "it, J, K : 59 1.4333957016139797e-05 [-9.99338885 -9.19842841]\n",
      "it, J, K : 60 1.3050058810510378e-05 [-9.9938491  -9.18777396]\n",
      "it, J, K : 61 1.1691864748207147e-05 [-9.99461422 -9.1766429 ]\n",
      "it, J, K : 62 1.0304928091099019e-05 [-9.99563108 -9.16515538]\n",
      "it, J, K : 63 8.931726768429022e-06 [-9.99684689 -9.15342715]\n",
      "it, J, K : 64 7.6097302905483816e-06 [-9.99821018 -9.14156869]\n",
      "it, J, K : 65 6.370045518704946e-06 [-9.99967155 -9.12968455]\n",
      "it, J, K : 66 5.236635898786222e-06 [-10.00118442  -9.11787266]\n",
      "it, J, K : 67 4.226070472233385e-06 [-10.00270561  -9.1062238 ]\n",
      "it, J, K : 68 3.3477310594120814e-06 [-10.00419584  -9.09482115]\n",
      "it, J, K : 69 2.6043887090160843e-06 [-10.00562004  -9.08373997]\n",
      "it, J, K : 70 1.9930529623999112e-06 [-10.00694764  -9.07304732]\n",
      "it, J, K : 71 1.505998121710384e-06 [-10.00815269  -9.06280194]\n",
      "it, J, K : 72 1.1318776164913859e-06 [-10.00921391  -9.05305419]\n",
      "it, J, K : 73 8.56848770831149e-07 [-10.01011468  -9.04384606]\n",
      "it, J, K : 74 6.656439860244935e-07 [-10.01084289  -9.0352113 ]\n",
      "it, J, K : 75 5.425390695889587e-07 [-10.01139078  -9.0271756 ]\n",
      "it, J, K : 76 4.7218400109550047e-07 [-10.01175471  -9.01975689]\n",
      "it, J, K : 77 4.402750064775981e-07 [-10.01193489  -9.01296562]\n",
      "it, J, K : 78 4.340588885759382e-07 [-10.01193505  -9.00680521]\n",
      "it, J, K : 79 4.4267084283202936e-07 [-10.01176211  -9.00127244]\n",
      "it, J, K : 80 4.573153587651848e-07 [-10.01142581  -8.99635803]\n",
      "it, J, K : 81 4.7130627566440374e-07 [-10.01093836  -8.9920471 ]\n",
      "it, J, K : 82 4.799867062015018e-07 [-10.01031402  -8.98831979]\n",
      "it, J, K : 83 4.80552490235095e-07 [-10.00956872  -8.98515186]\n",
      "it, J, K : 84 4.718042434849807e-07 [-10.0087197   -8.98251525]\n",
      "it, J, K : 85 4.5385308714622137e-07 [-10.00778511  -8.9803788 ]\n",
      "it, J, K : 86 4.278039610785436e-07 [-10.00678362  -8.97870879]\n",
      "it, J, K : 87 3.9543822247106293e-07 [-10.00573413  -8.97746957]\n",
      "it, J, K : 88 3.58914213968237e-07 [-10.00465536  -8.97662419]\n",
      "it, J, K : 89 3.2050086341497684e-07 [-10.00356558  -8.97613497]\n",
      "it, J, K : 90 2.82355376076364e-07 [-10.00248231  -8.975964  ]\n",
      "it, J, K : 91 2.4635193020759877e-07 [-10.00142206  -8.97607372]\n",
      "it, J, K : 92 2.1396421729015443e-07 [-10.0004001   -8.97642731]\n",
      "it, J, K : 93 1.8620089603219544e-07 [-9.99943023 -8.97698915]\n",
      "it, J, K : 94 1.6358974703611236e-07 [-9.99852466 -8.97772519]\n",
      "it, J, K : 95 1.4620367917666598e-07 [-9.99769388 -8.97860325]\n",
      "it, J, K : 96 1.337198584666684e-07 [-9.99694651 -8.97959327]\n",
      "it, J, K : 97 1.2550215997530492e-07 [-9.99628933 -8.98066753]\n",
      "it, J, K : 98 1.2069687933732862e-07 [-9.9957272  -8.98180081]\n",
      "it, J, K : 99 1.1833212177008499e-07 [-9.99526309 -8.98297043]\n",
      "Final K is: [-9.99526309 -8.98297043]\n",
      "ForwardMode()\n"
     ]
    }
   ],
   "source": [
    "# initialise optimizer\n",
    "opt_state = opt.init(mymodel)\n",
    "# optimize loop\n",
    "for it in range(itmax):\n",
    "    value, mymodel, opt_state = step_minimize(mymodel, opt_state, filter_spec, t0, t1, dt, time_obs, obs)\n",
    "    print(\"it, J, K :\",it, value, mymodel.K) # value, mymodel\n",
    "print('Final K is:',mymodel.K)\n",
    "newsolution = mymodel(t0, t1, dt, save_traj=ltime).ys"
   ]
  },
  {
   "cell_type": "markdown",
   "metadata": {},
   "source": [
    "Plotting\n",
    "---------"
   ]
  },
  {
   "cell_type": "code",
   "execution_count": 11,
   "metadata": {},
   "outputs": [
    {
     "data": {
      "image/png": "[encoded data removed]",
      "text/plain": [
       "<Figure size 500x500 with 1 Axes>"
      ]
     },
     "metadata": {},
     "output_type": "display_data"
    }
   ],
   "source": [
    "fig, ax = plt.subplots(1,1,figsize = (5,5),constrained_layout=True,dpi=100)\n",
    "ax.plot(ltime/3600, first_guess[0], c='b',label='first guess')\n",
    "ax.plot(ltime/3600,truth[0],c='k',label='truth')\n",
    "ax.plot(ltime/3600,newsolution[0],c='r',label='reconstruct')\n",
    "ax.scatter(time_obs/3600,obs[0],marker='x',c='r',label='obs')\n",
    "ax.set_ylabel('U')\n",
    "ax.set_xlabel('time (h)')\n",
    "fig.savefig('minimisation_example.png')\n",
    "plt.legend()\n",
    "plt.show()"
   ]
  },
  {
   "cell_type": "code",
   "execution_count": null,
   "metadata": {},
   "outputs": [],
   "source": []
  }
 ],
 "metadata": {
  "kernelspec": {
   "display_name": "JAXathon",
   "language": "python",
   "name": "python3"
  },
  "language_info": {
   "codemirror_mode": {
    "name": "ipython",
    "version": 3
   },
   "file_extension": ".py",
   "mimetype": "text/x-python",
   "name": "python",
   "nbconvert_exporter": "python",
   "pygments_lexer": "ipython3",
   "version": "3.10.16"
  }
 },
 "nbformat": 4,
 "nbformat_minor": 2
}
